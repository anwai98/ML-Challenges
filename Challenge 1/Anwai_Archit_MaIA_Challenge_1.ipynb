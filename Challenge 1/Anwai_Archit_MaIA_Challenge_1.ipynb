{
  "nbformat": 4,
  "nbformat_minor": 0,
  "metadata": {
    "colab": {
      "name": "Anwai Archit - MaIA - Challenge_1.ipynb",
      "provenance": [],
      "collapsed_sections": []
    },
    "kernelspec": {
      "display_name": "Python 3",
      "name": "python3"
    }
  },
  "cells": [
    {
      "cell_type": "markdown",
      "metadata": {
        "id": "yFEXMZ5aRRm_"
      },
      "source": [
        "Import all libraries you need.\n",
        "\n",
        "In this example there are only libraries needed for the example code."
      ]
    },
    {
      "cell_type": "code",
      "metadata": {
        "id": "OKrTLhYbRd0T"
      },
      "source": [
        "from sklearn.datasets import load_breast_cancer\n",
        "from sklearn.neighbors import KNeighborsClassifier     #KNN\n",
        "from sklearn.model_selection import train_test_split\n",
        "from sklearn.metrics import accuracy_score\n",
        "from sklearn import preprocessing\n",
        "from sklearn.preprocessing import StandardScaler \n",
        "from sklearn.feature_selection import SelectFromModel\n",
        "from sklearn.svm import LinearSVC\n",
        "import matplotlib.pylab as plt\n",
        "import numpy as np \n",
        "import pandas as pd\n",
        "import seaborn as sns"
      ],
      "execution_count": null,
      "outputs": []
    },
    {
      "cell_type": "markdown",
      "metadata": {
        "id": "9MtNjA_JRen9"
      },
      "source": [
        "Read the data.\n",
        "\n",
        "In this challenge you will use the toy dataset Breast Cancer Wisconsin (Diagnostic) Database.\n",
        "\n",
        "In the following example, how to load and read  the infos of  this dataset.\n"
      ]
    },
    {
      "cell_type": "code",
      "metadata": {
        "colab": {
          "base_uri": "https://localhost:8080/"
        },
        "id": "zj2IZiZBRhfv",
        "outputId": "eaa467e3-84e5-4fd4-eadd-02a31ffb46f7"
      },
      "source": [
        "breast_dataset=load_breast_cancer()\n",
        "\n",
        "#let's print the dataset description\n",
        "print(breast_dataset.DESCR+\"\\n\\n\")\n",
        "\n",
        "#let's print the size of the dataset\n",
        "print(\"Size:\" +str(breast_dataset.data.shape)+\"\\n\")\n",
        "\n",
        "#let's print the features names\n",
        "print(\"Features:\\n\"+str(breast_dataset.feature_names)+\"\\n\")\n",
        "\n",
        "#let's print the class names\n",
        "print(\"Classes:\\n\"+str(breast_dataset.target_names))"
      ],
      "execution_count": null,
      "outputs": [
        {
          "output_type": "stream",
          "text": [
            ".. _breast_cancer_dataset:\n",
            "\n",
            "Breast cancer wisconsin (diagnostic) dataset\n",
            "--------------------------------------------\n",
            "\n",
            "**Data Set Characteristics:**\n",
            "\n",
            "    :Number of Instances: 569\n",
            "\n",
            "    :Number of Attributes: 30 numeric, predictive attributes and the class\n",
            "\n",
            "    :Attribute Information:\n",
            "        - radius (mean of distances from center to points on the perimeter)\n",
            "        - texture (standard deviation of gray-scale values)\n",
            "        - perimeter\n",
            "        - area\n",
            "        - smoothness (local variation in radius lengths)\n",
            "        - compactness (perimeter^2 / area - 1.0)\n",
            "        - concavity (severity of concave portions of the contour)\n",
            "        - concave points (number of concave portions of the contour)\n",
            "        - symmetry \n",
            "        - fractal dimension (\"coastline approximation\" - 1)\n",
            "\n",
            "        The mean, standard error, and \"worst\" or largest (mean of the three\n",
            "        largest values) of these features were computed for each image,\n",
            "        resulting in 30 features.  For instance, field 3 is Mean Radius, field\n",
            "        13 is Radius SE, field 23 is Worst Radius.\n",
            "\n",
            "        - class:\n",
            "                - WDBC-Malignant\n",
            "                - WDBC-Benign\n",
            "\n",
            "    :Summary Statistics:\n",
            "\n",
            "    ===================================== ====== ======\n",
            "                                           Min    Max\n",
            "    ===================================== ====== ======\n",
            "    radius (mean):                        6.981  28.11\n",
            "    texture (mean):                       9.71   39.28\n",
            "    perimeter (mean):                     43.79  188.5\n",
            "    area (mean):                          143.5  2501.0\n",
            "    smoothness (mean):                    0.053  0.163\n",
            "    compactness (mean):                   0.019  0.345\n",
            "    concavity (mean):                     0.0    0.427\n",
            "    concave points (mean):                0.0    0.201\n",
            "    symmetry (mean):                      0.106  0.304\n",
            "    fractal dimension (mean):             0.05   0.097\n",
            "    radius (standard error):              0.112  2.873\n",
            "    texture (standard error):             0.36   4.885\n",
            "    perimeter (standard error):           0.757  21.98\n",
            "    area (standard error):                6.802  542.2\n",
            "    smoothness (standard error):          0.002  0.031\n",
            "    compactness (standard error):         0.002  0.135\n",
            "    concavity (standard error):           0.0    0.396\n",
            "    concave points (standard error):      0.0    0.053\n",
            "    symmetry (standard error):            0.008  0.079\n",
            "    fractal dimension (standard error):   0.001  0.03\n",
            "    radius (worst):                       7.93   36.04\n",
            "    texture (worst):                      12.02  49.54\n",
            "    perimeter (worst):                    50.41  251.2\n",
            "    area (worst):                         185.2  4254.0\n",
            "    smoothness (worst):                   0.071  0.223\n",
            "    compactness (worst):                  0.027  1.058\n",
            "    concavity (worst):                    0.0    1.252\n",
            "    concave points (worst):               0.0    0.291\n",
            "    symmetry (worst):                     0.156  0.664\n",
            "    fractal dimension (worst):            0.055  0.208\n",
            "    ===================================== ====== ======\n",
            "\n",
            "    :Missing Attribute Values: None\n",
            "\n",
            "    :Class Distribution: 212 - Malignant, 357 - Benign\n",
            "\n",
            "    :Creator:  Dr. William H. Wolberg, W. Nick Street, Olvi L. Mangasarian\n",
            "\n",
            "    :Donor: Nick Street\n",
            "\n",
            "    :Date: November, 1995\n",
            "\n",
            "This is a copy of UCI ML Breast Cancer Wisconsin (Diagnostic) datasets.\n",
            "https://goo.gl/U2Uwz2\n",
            "\n",
            "Features are computed from a digitized image of a fine needle\n",
            "aspirate (FNA) of a breast mass.  They describe\n",
            "characteristics of the cell nuclei present in the image.\n",
            "\n",
            "Separating plane described above was obtained using\n",
            "Multisurface Method-Tree (MSM-T) [K. P. Bennett, \"Decision Tree\n",
            "Construction Via Linear Programming.\" Proceedings of the 4th\n",
            "Midwest Artificial Intelligence and Cognitive Science Society,\n",
            "pp. 97-101, 1992], a classification method which uses linear\n",
            "programming to construct a decision tree.  Relevant features\n",
            "were selected using an exhaustive search in the space of 1-4\n",
            "features and 1-3 separating planes.\n",
            "\n",
            "The actual linear program used to obtain the separating plane\n",
            "in the 3-dimensional space is that described in:\n",
            "[K. P. Bennett and O. L. Mangasarian: \"Robust Linear\n",
            "Programming Discrimination of Two Linearly Inseparable Sets\",\n",
            "Optimization Methods and Software 1, 1992, 23-34].\n",
            "\n",
            "This database is also available through the UW CS ftp server:\n",
            "\n",
            "ftp ftp.cs.wisc.edu\n",
            "cd math-prog/cpo-dataset/machine-learn/WDBC/\n",
            "\n",
            ".. topic:: References\n",
            "\n",
            "   - W.N. Street, W.H. Wolberg and O.L. Mangasarian. Nuclear feature extraction \n",
            "     for breast tumor diagnosis. IS&T/SPIE 1993 International Symposium on \n",
            "     Electronic Imaging: Science and Technology, volume 1905, pages 861-870,\n",
            "     San Jose, CA, 1993.\n",
            "   - O.L. Mangasarian, W.N. Street and W.H. Wolberg. Breast cancer diagnosis and \n",
            "     prognosis via linear programming. Operations Research, 43(4), pages 570-577, \n",
            "     July-August 1995.\n",
            "   - W.H. Wolberg, W.N. Street, and O.L. Mangasarian. Machine learning techniques\n",
            "     to diagnose breast cancer from fine-needle aspirates. Cancer Letters 77 (1994) \n",
            "     163-171.\n",
            "\n",
            "\n",
            "Size:(569, 30)\n",
            "\n",
            "Features:\n",
            "['mean radius' 'mean texture' 'mean perimeter' 'mean area'\n",
            " 'mean smoothness' 'mean compactness' 'mean concavity'\n",
            " 'mean concave points' 'mean symmetry' 'mean fractal dimension'\n",
            " 'radius error' 'texture error' 'perimeter error' 'area error'\n",
            " 'smoothness error' 'compactness error' 'concavity error'\n",
            " 'concave points error' 'symmetry error' 'fractal dimension error'\n",
            " 'worst radius' 'worst texture' 'worst perimeter' 'worst area'\n",
            " 'worst smoothness' 'worst compactness' 'worst concavity'\n",
            " 'worst concave points' 'worst symmetry' 'worst fractal dimension']\n",
            "\n",
            "Classes:\n",
            "['malignant' 'benign']\n"
          ],
          "name": "stdout"
        }
      ]
    },
    {
      "cell_type": "markdown",
      "metadata": {
        "id": "k4OVb-WIRhtm"
      },
      "source": [
        "Study the features.\n",
        "\n",
        "As an example, in the following code we use pandas (after a conversion from a  scikit-learn dataset to a pandas dataset) and seaborn libraries to:\n",
        "- build a scatter matrix to study the covariance between features (in the example, all features are used, but you can plot only the features you need)\n",
        "- build a heatmap of correlation between features (again of all features, but you can choose what you need) using the Pearson correlation coefficient"
      ]
    },
    {
      "cell_type": "code",
      "metadata": {
        "id": "jj3Sy9yCRlAH"
      },
      "source": [
        "#convert the scikit-learn dataset into pandas dataset\n",
        "breast_data_pd = pd.DataFrame(breast_dataset.data,columns=breast_dataset.feature_names)\n",
        "breast_data_pd['target'] = breast_dataset.target\n",
        "\n",
        "#plot the scatter matrix\n",
        "pd.plotting.scatter_matrix(breast_data_pd[breast_dataset.feature_names],figsize=(25,25))\n",
        "\n",
        "#correlation plot\n",
        "corr = breast_data_pd[breast_dataset.feature_names].corr()\n",
        "f, ax = plt.subplots(figsize=(30, 30))\n",
        "sns.heatmap(corr,annot=True)"
      ],
      "execution_count": null,
      "outputs": []
    },
    {
      "cell_type": "markdown",
      "metadata": {
        "id": "SCsihtWwRlI3"
      },
      "source": [
        "Apply all the feature transformations and/or feature selection and/or dimensionality reduction that you think are necessary to improve the performance.\n",
        "\n",
        "Follow the Scikit-learn user guide, and in particular: \n",
        "- for feature transformations see https://scikit-learn.org/stable/modules/preprocessing.html \n",
        "- for dimensionaity reduction see this example on LDA and PCA (we will study more in next lectures) https://scikit-learn.org/stable/auto_examples/decomposition/plot_pca_vs_lda.html\n",
        "- for feature selection see https://scikit-learn.org/stable/modules/feature_selection.html  "
      ]
    },
    {
      "cell_type": "code",
      "metadata": {
        "id": "bpoJahAJRpUs"
      },
      "source": [
        "#DO NOT MODIFY THE FOLLOWING SPLIT OF THE DATASET\n",
        "X_train, X_test, y_train, y_test = train_test_split(breast_dataset.data, breast_dataset.target, stratify=breast_dataset.target,random_state=42)\n",
        "\n",
        "#BE CAREFUL: To find the right transformation only use the training set (variable X_train) \n",
        "#Then apply the same transformation to the data in the test set (variable X_test)\n",
        "\n",
        "#Write here your code to transform, select or reduce features (don't forget to import libraries)\n",
        "\n",
        "#Feature Transformation - Scaling the Data - StandardScaler\n",
        "scaler = preprocessing.StandardScaler().fit(X_train)\n",
        "X_train = scaler.fit_transform(X_train)\n",
        "X_test = scaler.transform(X_test)\n",
        "\n",
        "#Feature Selection - using SelectFromModel - L2-based - Linear Support Vector Classification\n",
        "lsvc = LinearSVC(C=0.0007, penalty=\"l2\", dual=False).fit(X_train, y_train)\n",
        "model = SelectFromModel(lsvc, prefit=True, threshold=-np.inf, max_features=29)\n",
        "X_train = model.transform(X_train)\n",
        "X_test = model.transform(X_test)"
      ],
      "execution_count": null,
      "outputs": []
    },
    {
      "cell_type": "markdown",
      "metadata": {
        "id": "QAf0lXx3Rpcz"
      },
      "source": [
        "Don't modify this part where we split the data into training and test, then train a 3-NN classifier and evaluate the accuracy on the test set."
      ]
    },
    {
      "cell_type": "code",
      "metadata": {
        "colab": {
          "base_uri": "https://localhost:8080/"
        },
        "id": "GcO2clkxRsYr",
        "outputId": "cf2d7a53-0982-4396-cf52-17e1e116c609"
      },
      "source": [
        "#DO NOT MODIFY THE CLASSIFIER AND THE PERFORMANCE EVALUATION\n",
        "knn = KNeighborsClassifier(n_neighbors=3)\n",
        "knn.fit(X_train,y_train)\n",
        "scores = knn.predict(X_test)\n",
        "\n",
        "# Show prediction accuracy\n",
        "print('\\nPrediction accuracy:')\n",
        "print('{:.2%}\\n'.format(accuracy_score(y_test, scores)))"
      ],
      "execution_count": null,
      "outputs": [
        {
          "output_type": "stream",
          "text": [
            "\n",
            "Prediction accuracy:\n",
            "97.90%\n",
            "\n"
          ],
          "name": "stdout"
        }
      ]
    }
  ]
}