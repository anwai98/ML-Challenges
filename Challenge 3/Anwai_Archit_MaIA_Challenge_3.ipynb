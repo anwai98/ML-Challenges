{
  "nbformat": 4,
  "nbformat_minor": 0,
  "metadata": {
    "colab": {
      "name": "Anwai_Archit_MaIA_Challenge_3.ipynb",
      "provenance": [],
      "collapsed_sections": []
    },
    "kernelspec": {
      "name": "python3",
      "display_name": "Python 3"
    }
  },
  "cells": [
    {
      "cell_type": "markdown",
      "metadata": {
        "id": "yFEXMZ5aRRm_"
      },
      "source": [
        "IMPORT LIBRARIES\n",
        "\n",
        "- In this example there are only libraries needed for the example code."
      ]
    },
    {
      "cell_type": "code",
      "metadata": {
        "id": "OKrTLhYbRd0T"
      },
      "source": [
        "import numpy as np\n",
        "from sklearn.datasets import load_digits\n",
        "import matplotlib.pyplot as plt\n",
        "from sklearn.preprocessing import StandardScaler, MinMaxScaler, MaxAbsScaler, normalize\n",
        "from sklearn.svm import SVC, LinearSVC\n",
        "from sklearn.model_selection import GridSearchCV, StratifiedKFold\n",
        "from sklearn.pipeline import Pipeline\n",
        "from sklearn.neighbors import KNeighborsClassifier\n",
        "from sklearn import preprocessing\n",
        "from sklearn.ensemble import RandomForestClassifier, AdaBoostClassifier, GradientBoostingClassifier, VotingClassifier\n",
        "from sklearn.linear_model import LogisticRegression\n",
        "from sklearn.naive_bayes import GaussianNB\n",
        "from sklearn.decomposition import PCA\n",
        "from sklearn.feature_selection import SelectFromModel\n",
        "from sklearn.metrics import confusion_matrix"
      ],
      "execution_count": 1,
      "outputs": []
    },
    {
      "cell_type": "markdown",
      "metadata": {
        "id": "9MtNjA_JRen9"
      },
      "source": [
        "READ THE DATA:\n",
        "\n",
        "- In this challenge you will use the dataset \"Optical recognition of handwritten digits\", usually indicated as Digits.\n",
        ">In the following example, how to load and read  the info of  this dataset, and visualize some of the samples.\n"
      ]
    },
    {
      "cell_type": "code",
      "metadata": {
        "id": "zj2IZiZBRhfv",
        "colab": {
          "base_uri": "https://localhost:8080/",
          "height": 207
        },
        "outputId": "f63193be-0585-406a-eeef-9203b383dd33"
      },
      "source": [
        "digits = load_digits()\n",
        "\n",
        "print(\"Image Data Shape\" , digits.data.shape)\n",
        "print(\"Label Data Shape\", digits.target.shape)\n",
        "\n",
        "plt.figure(figsize=(20,4))\n",
        "for index, (image, label) in enumerate(zip(digits.data[0:10], digits.target[0:10])):\n",
        "    plt.subplot(1, 10, index + 1)\n",
        "    plt.imshow(np.reshape(image, (8,8)), cmap=plt.cm.gray)\n",
        "    plt.title('Training: %i\\n' % label, fontsize = 15)\n"
      ],
      "execution_count": 2,
      "outputs": [
        {
          "output_type": "stream",
          "text": [
            "Image Data Shape (1797, 64)\n",
            "Label Data Shape (1797,)\n"
          ],
          "name": "stdout"
        },
        {
          "output_type": "display_data",
          "data": {
            "image/png": "[encoded data removed]",
            "text/plain": [
              "<Figure size 1440x288 with 10 Axes>"
            ]
          },
          "metadata": {
            "tags": [],
            "needs_background": "light"
          }
        }
      ]
    },
    {
      "cell_type": "markdown",
      "metadata": {
        "id": "yYj_SCHsZhel"
      },
      "source": [
        "FEATURE EXTRACTION\n",
        "\n",
        "- Transform the raw images into feature data:\n",
        ">To apply a classifier on the images, we can use the pixel values as features. We need to flatten the image and turn the data in a matrix with samples on the rows and features on the columns.\n"
      ]
    },
    {
      "cell_type": "code",
      "metadata": {
        "id": "hoWPs9pNZr9r"
      },
      "source": [
        "n_samples = len(digits.images)\n",
        "digits_data = digits.images.reshape((n_samples, -1))\n",
        "digits_class = digits.target"
      ],
      "execution_count": 3,
      "outputs": []
    },
    {
      "cell_type": "markdown",
      "metadata": {
        "id": "k4OVb-WIRhtm"
      },
      "source": [
        "FEATURE ENGINEERING AND TRAINING/TEST OF THE LEARNING MODEL \n",
        "\n",
        "- Evaluate if you need features normalization, feature selection or dimensionality reduction;\n",
        "- Find the best parameter for a classifier using a grid search approach applied on a stratified k-fold cross validation;\n",
        "- Evaluate the accuracy and the confusion matrix.\n",
        "\n",
        ">Use these classifiers:\n",
        "- SVM (different models and different kernels), see https://scikit-learn.org/stable/modules/svm.html\n",
        "- Ensemble methods (e.g., RandomForest, AdaBoost, GradientBoosting, etc.), see https://scikit-learn.org/stable/modules/ensemble.html\n",
        "\n",
        ">>Which one is the best? \n",
        "- Can you find a combination rule (e.g. majority voting, simple average, etc.) to build an ensemble of classifiers (e.g. decision trees, Naïve Bayes, etc.) with similar performances?\n",
        "\n"
      ]
    },
    {
      "cell_type": "markdown",
      "metadata": {
        "id": "R2eOH-zEYTag"
      },
      "source": [
        "Feature Engineering"
      ]
    },
    {
      "cell_type": "code",
      "metadata": {
        "id": "4O_kLt8GUv8X"
      },
      "source": [
        "# Feature Normalisation\n",
        "digits_data = normalize(digits_data)"
      ],
      "execution_count": 4,
      "outputs": []
    },
    {
      "cell_type": "code",
      "metadata": {
        "id": "9kbgSFk6_Mx3"
      },
      "source": [
        "# Dimensionality Reduction\n",
        "X = digits_data\n",
        "pca = PCA(n_components='mle', svd_solver='full')\n",
        "digits_data = pca.fit_transform(X)"
      ],
      "execution_count": 5,
      "outputs": []
    },
    {
      "cell_type": "code",
      "metadata": {
        "id": "gCJC5QH-XGsg"
      },
      "source": [
        "# Feature Selection\n",
        "lsvc = LinearSVC(C=0.09, penalty=\"l2\", dual=False).fit(digits_data, digits_class)\n",
        "model = SelectFromModel(lsvc, prefit=True)\n",
        "digits_data = model.transform(digits_data)"
      ],
      "execution_count": 6,
      "outputs": []
    },
    {
      "cell_type": "code",
      "metadata": {
        "id": "BW9ilWQg77B5",
        "colab": {
          "base_uri": "https://localhost:8080/"
        },
        "outputId": "3ee43dcb-5bf6-4969-9317-eb24051f193d"
      },
      "source": [
        "# As an example in the following code lines there is a pipeline with standard scaler and linear SVM\n",
        "# where the C parameter is optimized with a grid search on a stratified cross validation\n",
        "\n",
        "# As an example, let's fix some variables\n",
        "# n_values = 5\n",
        "# lower_value_C = -5\n",
        "# higher_value_C = 5\n",
        "\n",
        "# Let's apply a stratified 10-fold cross validation\n",
        "cv = StratifiedKFold(n_splits=10, shuffle=True, random_state=31)\n",
        "\n",
        "# Let's build a pipeline with only a scaler and a linear SVM\n",
        "\n",
        "# Let's build a structure for the grid search with a set of parameters for the techniques in the pipeline\n",
        "# Be careful to the double underscore between the name you chose in the pipeline and the name of the parameter\n",
        "# Be careful also to the function logspace for the range of the C values\n",
        "\n",
        "# SVM Pipeline (99.22% with Feature Engineering)\n",
        "pipe = Pipeline([('scaler', MinMaxScaler()),('svc',SVC())])\n",
        "parameters={'svc__kernel': ['linear', 'poly', 'rbf']}\n",
        "\n",
        "## Ensemble Methods\n",
        "# Random Forest (>90%)\n",
        "# pipe = Pipeline([('rfc',RandomForestClassifier())])\n",
        "# parameters={'rfc__n_estimators': [200,500,1000], 'rfc__criterion': ['gini', 'entropy'], 'rfc__max_depth': [2,5,8,11], 'rfc__max_features': ['auto', 'sqrt', 'log2'], 'rfc__random_state': [31,32,35,40,42]}\n",
        "\n",
        "# Adaboost (Deteriorates the performance - ~60% with sincere hyperparameter tuning)\n",
        "# pipe = Pipeline([('abc',AdaBoostClassifier())])\n",
        "# parameters={'abc__random_state': range(0,42,2),'abc__n_estimators': [100,500,1000], 'abc__learning_rate': [0.001,0.05]}\n",
        "\n",
        "# Gradient Boosting (Accuracy lies in the range (80,90]%)\n",
        "# pipe = Pipeline([('gbc',GradientBoostingClassifier())])\n",
        "# parameters={'gbc__learning_rate': [0.01, 0.001], 'gbc__n_estimators': [200, 500, 1000], 'gbc__max_depth': [2,4,6,8,10], 'gbc__max_features': ['auto']}\n",
        "\n",
        "# Majority Voting (98.72%)\n",
        "# eclf = VotingClassifier(estimators=[('lr', LogisticRegression(max_iter = 1000)), ('knn', KNeighborsClassifier(n_neighbors=5)), ('gnb', GaussianNB())], weights=[3,5,1])\n",
        "# pipe = Pipeline([('scaler', MinMaxScaler()), ('vc', eclf)])\n",
        "# parameters={}\n",
        "\n",
        "# Let's apply the grid search function\n",
        "grid_search = GridSearchCV(pipe, parameters, cv=cv)\n",
        "# Let's train and test the learning system\n",
        "grid_search.fit(digits_data, digits_class)\n",
        "\n",
        "# Here we just print the best accuracy and the corresponding values for the parameters\n",
        "print(\"The best parameters are %s with an accuracy of %0.4f\"%(grid_search.best_params_, 100*grid_search.best_score_))"
      ],
      "execution_count": 7,
      "outputs": [
        {
          "output_type": "stream",
          "text": [
            "The best parameters are {'svc__kernel': 'rbf'} with an accuracy of 99.2207\n"
          ],
          "name": "stdout"
        }
      ]
    },
    {
      "cell_type": "code",
      "metadata": {
        "id": "lfucSfpUDZX7",
        "colab": {
          "base_uri": "https://localhost:8080/"
        },
        "outputId": "c5ae6d94-5868-4f89-fc5b-956941a6949a"
      },
      "source": [
        "# Confusion Matrix\n",
        "y_pred = grid_search.best_estimator_.predict(digits_data)\n",
        "y = digits_class\n",
        "confusion_matrix(y, y_pred)"
      ],
      "execution_count": 8,
      "outputs": [
        {
          "output_type": "execute_result",
          "data": {
            "text/plain": [
              "array([[178,   0,   0,   0,   0,   0,   0,   0,   0,   0],\n",
              "       [  0, 182,   0,   0,   0,   0,   0,   0,   0,   0],\n",
              "       [  0,   0, 177,   0,   0,   0,   0,   0,   0,   0],\n",
              "       [  0,   0,   0, 183,   0,   0,   0,   0,   0,   0],\n",
              "       [  0,   0,   0,   0, 181,   0,   0,   0,   0,   0],\n",
              "       [  0,   0,   0,   0,   0, 181,   0,   0,   0,   1],\n",
              "       [  0,   0,   0,   0,   0,   0, 181,   0,   0,   0],\n",
              "       [  0,   0,   0,   0,   0,   0,   0, 179,   0,   0],\n",
              "       [  0,   0,   0,   0,   0,   0,   0,   0, 174,   0],\n",
              "       [  0,   0,   0,   1,   0,   0,   0,   0,   0, 179]])"
            ]
          },
          "metadata": {
            "tags": []
          },
          "execution_count": 8
        }
      ]
    }
  ]
}